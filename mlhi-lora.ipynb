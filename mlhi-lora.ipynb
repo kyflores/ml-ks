{
 "cells": [
  {
   "cell_type": "markdown",
   "id": "602de28c-f6c8-4c92-8845-7d4766b156a5",
   "metadata": {},
   "source": [
    "# Train LoRAs with HuggingFace APIs\n",
    "\n",
    "### Install\n",
    "pip install pytorch transformers datasets peft jupyterlab ipywidgets"
   ]
  },
  {
   "cell_type": "code",
   "execution_count": 1,
   "id": "ea8c3d8c-b1db-4ece-a228-1d0342d5ee17",
   "metadata": {},
   "outputs": [
    {
     "name": "stdout",
     "output_type": "stream",
     "text": [
      "env: HF_HOME=.\n"
     ]
    }
   ],
   "source": [
    "# Set this var to download everything to the directory where this notebook is.\n",
    "# Goes under \"./hub\"\n",
    "%env HF_HOME=."
   ]
  },
  {
   "cell_type": "code",
   "execution_count": 2,
   "id": "7faf45e1-b250-4606-8df5-2532646faa2f",
   "metadata": {},
   "outputs": [],
   "source": [
    "import transformers as tfs\n",
    "import datasets as dts\n",
    "import accelerate\n",
    "import peft\n",
    "import torch"
   ]
  },
  {
   "cell_type": "markdown",
   "id": "8714817c-2fb3-4176-96a0-d85bdaa704fc",
   "metadata": {},
   "source": [
    "This cell simply fetches the model from Hugging Face Hub. We're using their SmolLM-135M model here, which has 135M parameters and a context window of 2048. However, we're limited the size of all our data to 1024 to limit memory usage."
   ]
  },
  {
   "cell_type": "code",
   "execution_count": 3,
   "id": "1157d9f8-06da-44e7-befd-0c9260952ed7",
   "metadata": {},
   "outputs": [
    {
     "data": {
      "application/vnd.jupyter.widget-view+json": {
       "model_id": "5235d7d3a6f94027a4e0878428281655",
       "version_major": 2,
       "version_minor": 0
      },
      "text/plain": [
       "config.json:   0%|          | 0.00/725 [00:00<?, ?B/s]"
      ]
     },
     "metadata": {},
     "output_type": "display_data"
    },
    {
     "data": {
      "application/vnd.jupyter.widget-view+json": {
       "model_id": "c1453ef394de40a38b79ad34b3e036b9",
       "version_major": 2,
       "version_minor": 0
      },
      "text/plain": [
       "model.safetensors:   0%|          | 0.00/1.45G [00:00<?, ?B/s]"
      ]
     },
     "metadata": {},
     "output_type": "display_data"
    },
    {
     "data": {
      "application/vnd.jupyter.widget-view+json": {
       "model_id": "51110172badb48e9af19c6ed6f7a55ff",
       "version_major": 2,
       "version_minor": 0
      },
      "text/plain": [
       "generation_config.json:   0%|          | 0.00/111 [00:00<?, ?B/s]"
      ]
     },
     "metadata": {},
     "output_type": "display_data"
    },
    {
     "data": {
      "application/vnd.jupyter.widget-view+json": {
       "model_id": "b56d5b63fe254c0bbd94afc7a6dde0f2",
       "version_major": 2,
       "version_minor": 0
      },
      "text/plain": [
       "tokenizer_config.json:   0%|          | 0.00/3.69k [00:00<?, ?B/s]"
      ]
     },
     "metadata": {},
     "output_type": "display_data"
    },
    {
     "data": {
      "application/vnd.jupyter.widget-view+json": {
       "model_id": "32151dff70c54b7987b0763a17cfecf7",
       "version_major": 2,
       "version_minor": 0
      },
      "text/plain": [
       "vocab.json:   0%|          | 0.00/801k [00:00<?, ?B/s]"
      ]
     },
     "metadata": {},
     "output_type": "display_data"
    },
    {
     "data": {
      "application/vnd.jupyter.widget-view+json": {
       "model_id": "6a7b0b23bdc24b36ac16149aeadc62fb",
       "version_major": 2,
       "version_minor": 0
      },
      "text/plain": [
       "merges.txt:   0%|          | 0.00/466k [00:00<?, ?B/s]"
      ]
     },
     "metadata": {},
     "output_type": "display_data"
    },
    {
     "data": {
      "application/vnd.jupyter.widget-view+json": {
       "model_id": "4ca10b819ef14eb8931a5c2ef2f2ecc3",
       "version_major": 2,
       "version_minor": 0
      },
      "text/plain": [
       "tokenizer.json:   0%|          | 0.00/2.10M [00:00<?, ?B/s]"
      ]
     },
     "metadata": {},
     "output_type": "display_data"
    },
    {
     "data": {
      "application/vnd.jupyter.widget-view+json": {
       "model_id": "404a1a617ddd4a4cb6a5c3a023ecd7b3",
       "version_major": 2,
       "version_minor": 0
      },
      "text/plain": [
       "special_tokens_map.json:   0%|          | 0.00/831 [00:00<?, ?B/s]"
      ]
     },
     "metadata": {},
     "output_type": "display_data"
    }
   ],
   "source": [
    "# smol_lm = \"HuggingFaceTB/SmolLM-135M\"\n",
    "smol_lm = \"HuggingFaceTB/SmolLM-360M\"\n",
    "# smol_lm = \"HuggingFaceTB/SmolLM-1.7B\"\n",
    "\n",
    "def load_model(name: str):\n",
    "    MAX_LEN=1024 # Reduce the usable context size to save VRAM\n",
    "\n",
    "    config = tfs.AutoConfig.from_pretrained(name)\n",
    "    model = tfs.AutoModelForCausalLM.from_pretrained(name)\n",
    "    tokenizer = tfs.AutoTokenizer.from_pretrained(\n",
    "        name,\n",
    "        model_max_length=MAX_LEN\n",
    "    )\n",
    "\n",
    "    # This is the Mistral chat template in a format HF Transformers uses.\n",
    "    # We chose this template because it requires no special tokens to function properly.\n",
    "    tokenizer.chat_template = \"{%- for message in messages %}{%- if message['role'] == 'system' -%}{{- message['content'] -}}{%- else -%}{%- if message['role'] == 'user' -%}{{-'[INST] ' + message['content'].rstrip() + ' [/INST]'-}}{%- else -%}{{-'' + message['content'] + '</s>' -}}{%- endif -%}{%- endif -%}{%- endfor -%}{%- if add_generation_prompt -%}{{-''-}}{%- endif -%}\"\n",
    "    \n",
    "    # Using eos as the pad token seems common practice.\n",
    "    tokenizer.pad_token = tokenizer.eos_token\n",
    "\n",
    "    return config, model, tokenizer\n",
    "\n",
    "cfg, mdl, tok = load_model(smol_lm)"
   ]
  },
  {
   "cell_type": "markdown",
   "id": "c831a5c5-a8c6-406f-9242-14282f16f4cb",
   "metadata": {},
   "source": [
    "# Instruct LoRA\n",
    "First we'll train a LoRA for instruction following using the dolly-15k dataset."
   ]
  },
  {
   "cell_type": "code",
   "execution_count": 4,
   "id": "280ae321-d8c6-4f71-ba34-104ca1d3dd5c",
   "metadata": {},
   "outputs": [],
   "source": [
    "# Instruct dataset. A possible alternative is \"tatsu-lab/alpaca\"\n",
    "dolly = dts.load_dataset(\"databricks/databricks-dolly-15k\")"
   ]
  },
  {
   "cell_type": "code",
   "execution_count": 5,
   "id": "ffcd94d2-d9ff-4a92-944f-2c76ed9262de",
   "metadata": {},
   "outputs": [
    {
     "data": {
      "application/vnd.jupyter.widget-view+json": {
       "model_id": "725c6db849a7472c8d2e46133119851b",
       "version_major": 2,
       "version_minor": 0
      },
      "text/plain": [
       "Map:   0%|          | 0/15011 [00:00<?, ? examples/s]"
      ]
     },
     "metadata": {},
     "output_type": "display_data"
    }
   ],
   "source": [
    "# tok is captured from the global namespace\n",
    "# x keys are instruction, context, response, category\n",
    "# Not all samples have a context, so we'll ignore it.\n",
    "def dolly_chat(x):\n",
    "    chat = [\n",
    "        # {\"role\": \"system\", \"content\": \"{}\".format(x[\"context\"])},\n",
    "        {\"role\": \"user\", \"content\": \"{}\".format(x[\"instruction\"])},\n",
    "        {\"role\": \"assistant\", \"content\": \"{}\".format(x[\"response\"])},\n",
    "    ]\n",
    "    chat_formatted = tok.apply_chat_template(\n",
    "        chat,\n",
    "        tokenize=False,\n",
    "        add_generation_prompt=True,\n",
    "    )\n",
    "\n",
    "    # TODO Padding to max length always seems to result in static VRAM usage, but\n",
    "    # is slower on average since many samples are much shorter than max_length.\n",
    "    # Want to debug why peak VRAM fluctuates a lot when length can vary, as this sometimes\n",
    "    # OOMs midway through training.\n",
    "    tokenized = tok(chat_formatted, padding=\"max_length\", truncation=True)\n",
    "\n",
    "    return {\"text\": chat_formatted, \"input_ids\": tokenized[\"input_ids\"]}\n",
    "\n",
    "dset_w_tokenized = dolly[\"train\"].map(dolly_chat)"
   ]
  },
  {
   "cell_type": "code",
   "execution_count": 6,
   "id": "808c3b52-4918-4ad7-af41-f207c9119038",
   "metadata": {},
   "outputs": [
    {
     "name": "stdout",
     "output_type": "stream",
     "text": [
      "1024\n",
      "[INST] When did Virgin Australia start operating? [/INST]Virgin Australia commenced services on 31 August 2000 as Virgin Blue, with two aircraft on a single route.</s>\n"
     ]
    }
   ],
   "source": [
    "print(len(dset_w_tokenized[\"input_ids\"][0]))\n",
    "print(dset_w_tokenized[\"text\"][0])"
   ]
  },
  {
   "cell_type": "code",
   "execution_count": 7,
   "id": "70cd3a1b-3b18-4016-a915-be998c136768",
   "metadata": {},
   "outputs": [
    {
     "name": "stdout",
     "output_type": "stream",
     "text": [
      "trainable params: 17,367,040 || all params: 379,188,160 || trainable%: 4.5801\n"
     ]
    }
   ],
   "source": [
    "rank = 32\n",
    "\n",
    "# I got much better results by training embed_tokens. It's possible <|im_start|> <|im_end|> are untrained.\n",
    "lora_config = peft.LoraConfig(\n",
    "    # This is the rank you see in all the LoRA materials\n",
    "    r=rank,\n",
    "    # These are (almost) all of the linear layers. You can experiment by training fewer of them.\n",
    "    target_modules=[\"q_proj\", \"v_proj\", \"k_proj\", \"o_proj\", \"gate_proj\", \"up_proj\", \"down_proj\"],\n",
    "    task_type=peft.TaskType.CAUSAL_LM,\n",
    "    # Rule of thumb for alpha seems to be 1-2x the rank.\n",
    "    lora_alpha=1 * rank,\n",
    "    lora_dropout=0.05\n",
    ")\n",
    "lora_model = peft.get_peft_model(mdl, lora_config)\n",
    "lora_model.print_trainable_parameters()"
   ]
  },
  {
   "cell_type": "code",
   "execution_count": 8,
   "id": "6c7f0676-c7e5-41d2-b305-a3bd7ab65495",
   "metadata": {},
   "outputs": [],
   "source": [
    "# These 3 things are your main training parameters.\n",
    "lr=5e-5\n",
    "\n",
    "# Lower this if you get CUDA out of memory, but try to keep\n",
    "# (batchsize * gradient_accumulation_steps) at least 8.\n",
    "batchsize=4 \n",
    "\n",
    "epochs=1\n",
    "\n",
    "args = tfs.TrainingArguments(\n",
    "    output_dir='./finetune',\n",
    "    optim='adamw_torch',\n",
    "    learning_rate=lr,\n",
    "    num_train_epochs=epochs,\n",
    "    per_device_train_batch_size=batchsize,\n",
    "    per_device_eval_batch_size=batchsize,\n",
    "    gradient_accumulation_steps=4,\n",
    "    gradient_checkpointing=False,\n",
    "    save_strategy=\"no\",\n",
    "    weight_decay=0.01,\n",
    "    push_to_hub=False,\n",
    "    report_to='none',\n",
    "    torch_empty_cache_steps=100,\n",
    "    bf16=True,\n",
    "    tf32=True # Comment this if it gives you an error. It requires Ampere or newer.\n",
    ")\n",
    "\n",
    "collator = tfs.DataCollatorForLanguageModeling(tok, mlm=False)\n",
    "\n",
    "trainer = tfs.Trainer(\n",
    "    model=lora_model,\n",
    "    args=args,\n",
    "    train_dataset=dset_w_tokenized,\n",
    "    processing_class=tok,\n",
    "    data_collator=collator\n",
    ")"
   ]
  },
  {
   "cell_type": "code",
   "execution_count": 9,
   "id": "5421ee62-878c-4aa5-a32e-9f78b78b5fde",
   "metadata": {},
   "outputs": [
    {
     "data": {
      "text/html": [
       "\n",
       "    <div>\n",
       "      \n",
       "      <progress value='938' max='938' style='width:300px; height:20px; vertical-align: middle;'></progress>\n",
       "      [938/938 10:58, Epoch 0/1]\n",
       "    </div>\n",
       "    <table border=\"1\" class=\"dataframe\">\n",
       "  <thead>\n",
       " <tr style=\"text-align: left;\">\n",
       "      <th>Step</th>\n",
       "      <th>Training Loss</th>\n",
       "    </tr>\n",
       "  </thead>\n",
       "  <tbody>\n",
       "    <tr>\n",
       "      <td>500</td>\n",
       "      <td>8.895300</td>\n",
       "    </tr>\n",
       "  </tbody>\n",
       "</table><p>"
      ],
      "text/plain": [
       "<IPython.core.display.HTML object>"
      ]
     },
     "metadata": {},
     "output_type": "display_data"
    },
    {
     "data": {
      "text/plain": [
       "TrainOutput(global_step=938, training_loss=8.680117218733342, metrics={'train_runtime': 659.6794, 'train_samples_per_second': 22.755, 'train_steps_per_second': 1.422, 'total_flos': 3.061364501250048e+16, 'train_loss': 8.680117218733342, 'epoch': 0.9997335464961364})"
      ]
     },
     "execution_count": 9,
     "metadata": {},
     "output_type": "execute_result"
    }
   ],
   "source": [
    "trainer.train()"
   ]
  },
  {
   "cell_type": "code",
   "execution_count": 10,
   "id": "2c027431-9229-4577-8d41-c99607f105d9",
   "metadata": {},
   "outputs": [],
   "source": [
    "question = \"Can you tell me about crows?\"\n",
    "\n",
    "def generate_instruct(\n",
    "    model,\n",
    "    instruction,\n",
    "    max_new_tokens=128,\n",
    "    temperature=0.5,\n",
    "    top_k=50,\n",
    "    repetition_penalty=1.1\n",
    "):\n",
    "    chat = [\n",
    "        {\"role\": \"user\", \"content\": f\"{instruction}\"},\n",
    "    ]\n",
    "    text = tok.apply_chat_template(chat, tokenize=False, add_generation_prompt=True)\n",
    "    inputs = tok(text, return_tensors='pt', truncation=True).to(lora_model.device)\n",
    "    print(\"Prompt has\", len(inputs[\"input_ids\"][0]), \"tokens\")\n",
    "    \n",
    "    with torch.no_grad():\n",
    "        output = model.generate(\n",
    "            **inputs,\n",
    "            do_sample=True,\n",
    "            pad_token_id=tok.pad_token_id,\n",
    "            max_new_tokens=max_new_tokens,\n",
    "            temperature=temperature,\n",
    "            top_k=top_k,\n",
    "            repetition_penalty=repetition_penalty,\n",
    "        )\n",
    "        \n",
    "        output = tok.batch_decode(output)[0]\n",
    "        return output"
   ]
  },
  {
   "cell_type": "code",
   "execution_count": null,
   "id": "35ae0ab0-b74f-43c7-b7e1-da01c43bed6f",
   "metadata": {},
   "outputs": [
    {
     "name": "stdout",
     "output_type": "stream",
     "text": [
      "Prompt has 14 tokens\n"
     ]
    }
   ],
   "source": [
    "print(generate_instruct(lora_model, question))"
   ]
  },
  {
   "cell_type": "code",
   "execution_count": 18,
   "id": "02fa2b94-afb1-403e-a71c-5be3f79c12ca",
   "metadata": {},
   "outputs": [],
   "source": [
    "lora_model.save_pretrained(save_directory=\"mlhi-lora-instruct\", save_embedding_layers=True)"
   ]
  },
  {
   "cell_type": "markdown",
   "id": "cbed3ba2-f87e-4374-8fb4-737a874b1b22",
   "metadata": {},
   "source": [
    "# Loading LoRA back for inference"
   ]
  },
  {
   "cell_type": "code",
   "execution_count": 19,
   "id": "c1216acf-bf73-4c54-9625-ce1245d1b64b",
   "metadata": {},
   "outputs": [],
   "source": [
    "# Load a fresh copy of the model\n",
    "cfg, mdl, tok = load_model(smol_lm)"
   ]
  },
  {
   "cell_type": "code",
   "execution_count": 20,
   "id": "4b9bd461-2f9a-4f1c-85de-3b21a6562db5",
   "metadata": {},
   "outputs": [
    {
     "name": "stdout",
     "output_type": "stream",
     "text": [
      "['mlhi-lora-instruct']\n"
     ]
    }
   ],
   "source": [
    "adapted_model = peft.PeftModel.from_pretrained(mdl, \"mlhi-lora-instruct\", adapter_name=\"mlhi-lora-instruct\").to(\"cuda\")\n",
    "print(adapted_model.active_adapters)"
   ]
  },
  {
   "cell_type": "markdown",
   "id": "54e60748-0808-4cbd-b2e3-57cd97e5718c",
   "metadata": {},
   "source": [
    "The next cell loads the LoRA trained on the text corpus. You can optionally skip the next cell to see what the model generates WITHOUT this LoRA active!"
   ]
  },
  {
   "cell_type": "code",
   "execution_count": 21,
   "id": "4be93158-3fca-449b-ad2f-1cdd95e5b16d",
   "metadata": {},
   "outputs": [
    {
     "name": "stdout",
     "output_type": "stream",
     "text": [
      "Prompt has 17 tokens\n",
      "[INST] Can you tell me a story about a bird? [/INST]A lot of birds are known as songbirds. Some common ones include the blue jay, house sparrow, and robin</s></p><p>There is also a bird called a thrush that can be found in the US.</s>\n",
      "<br />\n",
      "</p>\n",
      "\n",
      "<p>Some other birds are also known as waterfowl such as ducks, geese, and swans</s> </p>\n",
      "<p>The bird that lives on the ground is called a bat</s> </p>\n",
      "<p>Bats are nocturnal creatures</s> </p>\n",
      "<p\n"
     ]
    }
   ],
   "source": [
    "question = \"Can you tell me a story about a bird?\"\n",
    "\n",
    "# Setting a seed guarantees that samplers pick the same tokens every time if all else is equal.\n",
    "# This lets you change your generation settings or the question and see how it affects the result.\n",
    "# Comment it for a random response every time.\n",
    "torch.manual_seed(1651)\n",
    "print(\n",
    "    generate_instruct(\n",
    "        lora_model,\n",
    "        question,\n",
    "        max_new_tokens=128,\n",
    "        temperature=0.5,\n",
    "        top_k=10,\n",
    "        repetition_penalty=1.1\n",
    "    )\n",
    ")"
   ]
  },
  {
   "cell_type": "code",
   "execution_count": null,
   "id": "388c62b4-538b-416c-bcfe-7072a7e197e1",
   "metadata": {},
   "outputs": [],
   "source": []
  },
  {
   "cell_type": "code",
   "execution_count": null,
   "id": "6e55b2c2-4628-477f-b41e-2735bc531073",
   "metadata": {},
   "outputs": [],
   "source": []
  }
 ],
 "metadata": {
  "kernelspec": {
   "display_name": "Python 3 (ipykernel)",
   "language": "python",
   "name": "python3"
  },
  "language_info": {
   "codemirror_mode": {
    "name": "ipython",
    "version": 3
   },
   "file_extension": ".py",
   "mimetype": "text/x-python",
   "name": "python",
   "nbconvert_exporter": "python",
   "pygments_lexer": "ipython3",
   "version": "3.12.7"
  }
 },
 "nbformat": 4,
 "nbformat_minor": 5
}
