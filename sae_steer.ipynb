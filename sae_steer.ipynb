{
 "cells": [
  {
   "cell_type": "markdown",
   "id": "9082cd95-2fe9-4571-8b35-0bcc9dd476cf",
   "metadata": {},
   "source": [
    "# SAE Steering\n",
    "This notebook steers a text generation by identifying a neuron that corresponds to a certain concept and manually activating it during inference.\n",
    "\n",
    "The steps are:\n",
    "* Create a few samples that share a common feature; in this example, it's \"baseball\".\n",
    "* Collect the SAE activations of the last position when inferring w/ each sample as context.\n",
    "* Identify neuron activations that were common to each sample.\n",
    "* Force each neuron individually to a high value and complete an open ended prompt."
   ]
  },
  {
   "cell_type": "code",
   "execution_count": 1,
   "id": "32153111-e73f-4d4c-8173-57df34684cb7",
   "metadata": {},
   "outputs": [
    {
     "name": "stderr",
     "output_type": "stream",
     "text": [
      "/home/kyle/micromamba/envs/ml/lib/python3.11/site-packages/tqdm/auto.py:21: TqdmWarning: IProgress not found. Please update jupyter and ipywidgets. See https://ipywidgets.readthedocs.io/en/stable/user_install.html\n",
      "  from .autonotebook import tqdm as notebook_tqdm\n"
     ]
    },
    {
     "name": "stdout",
     "output_type": "stream",
     "text": [
      "Triton disabled, using eager implementation of sparse decoder.\n"
     ]
    }
   ],
   "source": [
    "import os\n",
    "import transformers\n",
    "from transformers import AutoModelForCausalLM, AutoTokenizer\n",
    "import torch\n",
    "os.environ[\"SPARSIFY_DISABLE_TRITON\"] = \"1\"\n",
    "from sparsify import Sae\n",
    "import matplotlib.pyplot as plt"
   ]
  },
  {
   "cell_type": "code",
   "execution_count": 2,
   "id": "cb2fbe5d-a3ef-4ef6-93ca-04c18d5901ac",
   "metadata": {},
   "outputs": [],
   "source": [
    "SAE_NAME = \"EleutherAI/sae-llama-3-8b-32x\"\n",
    "MODEL_NAME = \"meta-llama/Meta-Llama-3-8B\"\n",
    "DEVICE=\"cpu\""
   ]
  },
  {
   "cell_type": "code",
   "execution_count": 3,
   "id": "65bf183f-fd53-4b5f-9be9-432affc70218",
   "metadata": {
    "scrolled": true
   },
   "outputs": [
    {
     "name": "stderr",
     "output_type": "stream",
     "text": [
      "Fetching 2 files: 100%|██████████████████████████████████████████████████████████████████████████████████████| 2/2 [00:00<00:00, 56299.38it/s]\n",
      "Dropping extra args {'signed': False}\n",
      "Loading checkpoint shards: 100%|████████████████████████████████████████████████████████████████████████████████| 4/4 [00:01<00:00,  2.29it/s]\n"
     ]
    }
   ],
   "source": [
    "# Don't do this, it downloads an SAE for every layer which is massive.\n",
    "# saes = Sae.load_many(SAE_NAME)\n",
    "\n",
    "# Loading model + SAE is very large in bf16 so infer this on the CPU.\n",
    "# Layer 24's SAE is the only one that's fully trained.\n",
    "sae = Sae.load_from_hub(\"EleutherAI/sae-llama-3-8b-32x\", hookpoint=\"layers.24\", device=DEVICE)\n",
    "\n",
    "tokenizer = AutoTokenizer.from_pretrained(MODEL_NAME)\n",
    "model = AutoModelForCausalLM.from_pretrained(MODEL_NAME).to(DEVICE)"
   ]
  },
  {
   "cell_type": "code",
   "execution_count": 4,
   "id": "7b31ef12-fa84-4e57-9972-fd7b753035f1",
   "metadata": {},
   "outputs": [
    {
     "name": "stdout",
     "output_type": "stream",
     "text": [
      "[\"Baseball is often referred to as America's favorite pasttime.\", 'Compared to a tennis ball, a baseball is often heavier for its size and colored white.', 'Joining a little league team is an excellent way for young children to gain a love for baseball.', 'Baseball is ninety percent mental and the other half is physical', 'Whoever wants to know the heart and mind of America had better learn baseball, the rules and realities of the game - and do it by watching first some high school or small-town teams.', 'Baseball is the only game left for people.  To play basketball, you have to be 7 feet 6 inches.  To play football, you have to be the same width.']\n"
     ]
    }
   ],
   "source": [
    "quotes = [\n",
    "    \"Baseball is often referred to as America's favorite pasttime.\",\n",
    "    \"Compared to a tennis ball, a baseball is often heavier for its size and colored white.\",\n",
    "    \"Joining a little league team is an excellent way for young children to gain a love for baseball.\",\n",
    "    \"Baseball is ninety percent mental and the other half is physical\",\n",
    "    \"Whoever wants to know the heart and mind of America had better learn baseball, the rules and realities of the game - and do it by watching first some high school or small-town teams.\",\n",
    "    \"Baseball is the only game left for people.  To play basketball, you have to be 7 feet 6 inches.  To play football, you have to be the same width.\"\n",
    "]\n",
    "\n",
    "samples = []\n",
    "for q in quotes:\n",
    "    samples.append(q)\n",
    "\n",
    "print(samples)"
   ]
  },
  {
   "cell_type": "code",
   "execution_count": 5,
   "id": "6b57945e-89b3-4f24-a496-0fe9ac493a38",
   "metadata": {},
   "outputs": [
    {
     "name": "stdout",
     "output_type": "stream",
     "text": [
      "torch.Size([14, 131072])\n",
      "SAE Reconstruct L1 error: 0.11403631418943405\n",
      "torch.Size([20, 131072])\n",
      "SAE Reconstruct L1 error: 0.1139996200799942\n",
      "torch.Size([21, 131072])\n",
      "SAE Reconstruct L1 error: 0.11260168999433517\n",
      "torch.Size([13, 131072])\n",
      "SAE Reconstruct L1 error: 0.12607981264591217\n",
      "torch.Size([39, 131072])\n",
      "SAE Reconstruct L1 error: 0.12060314416885376\n",
      "torch.Size([40, 131072])\n",
      "SAE Reconstruct L1 error: 0.11565103381872177\n"
     ]
    }
   ],
   "source": [
    "last_acts = []\n",
    "for s in samples:\n",
    "    with torch.inference_mode():\n",
    "        inputs = tokenizer(s, return_tensors=\"pt\")\n",
    "        outputs = model(**inputs, output_hidden_states=True)\n",
    "    \n",
    "        latent_acts = []\n",
    "        # outputs.hidden_states has layers + 1 entries. The last item is the output of the final layer norm.\n",
    "        # hidden_states[x] is the input to layer x.\n",
    "        hidden_state = outputs.hidden_states[24]\n",
    "        # (N, D) input shape expected\n",
    "        hidden_state = hidden_state.flatten(0, 1)\n",
    "        latent = sae.encode(hidden_state)\n",
    "        print(latent.pre_acts.shape)\n",
    "        reconstruct = sae.decode(latent.top_acts.squeeze(0), latent.top_indices.squeeze(0))\n",
    "        print(\"SAE Reconstruct L1 error: {}\".format(((hidden_state - reconstruct).abs()).mean()))\n",
    "\n",
    "        last_acts.append(latent)"
   ]
  },
  {
   "cell_type": "markdown",
   "id": "17811233-158f-4bdd-94f1-b7aed8b5632f",
   "metadata": {},
   "source": [
    "Inspect activations from the last position."
   ]
  },
  {
   "cell_type": "code",
   "execution_count": 6,
   "id": "72ef2d1d-a0d9-4ba9-aaea-e6e5d6d53272",
   "metadata": {},
   "outputs": [
    {
     "data": {
      "text/plain": [
       "<matplotlib.legend.Legend at 0x782ddab91490>"
      ]
     },
     "execution_count": 6,
     "metadata": {},
     "output_type": "execute_result"
    },
    {
     "data": {
      "image/png": "[encoded data removed]",
      "text/plain": [
       "<Figure size 640x480 with 1 Axes>"
      ]
     },
     "metadata": {},
     "output_type": "display_data"
    }
   ],
   "source": [
    "# prompt_features = last_acts[0].pre_acts[-1]\n",
    "plt.plot(last_acts[0].pre_acts[-1], label=\"s0\")\n",
    "plt.plot(last_acts[1].pre_acts[-1], label=\"s1\")\n",
    "plt.plot(last_acts[2].pre_acts[-1], label=\"s2\")\n",
    "plt.plot(last_acts[3].pre_acts[-1], label=\"s3\")\n",
    "\n",
    "plt.legend()"
   ]
  },
  {
   "cell_type": "markdown",
   "id": "ec4c51bf-5ed3-4549-858b-af920eaea6f9",
   "metadata": {},
   "source": [
    "Identify features that were most activated by iterating through our text samples and tallying up how many times a feature appeared in the top_k reported by the SAE's encoder half."
   ]
  },
  {
   "cell_type": "code",
   "execution_count": 7,
   "id": "a63fbb97-ebdf-4efa-b1cb-a07aa088eaa6",
   "metadata": {},
   "outputs": [],
   "source": [
    "acc = torch.zeros(131072)\n",
    "for x in range(1, len(last_acts)):\n",
    "    acc[last_acts[x].top_indices[-1]] += 1\n",
    "\n",
    "common_acts = torch.topk(acc, k=64)"
   ]
  },
  {
   "cell_type": "code",
   "execution_count": 8,
   "id": "d4156065-f942-4eb4-9952-1c519e57e07e",
   "metadata": {},
   "outputs": [
    {
     "name": "stdout",
     "output_type": "stream",
     "text": [
      "torch.return_types.topk(\n",
      "values=tensor([5., 5., 5., 5., 5., 4., 4., 4., 4., 4., 4., 4., 4., 4., 4., 3., 3., 3.,\n",
      "        3., 3., 3., 3., 3., 3., 3., 3., 3., 3., 3., 3., 3., 3., 3., 3., 2., 2.,\n",
      "        2., 2., 2., 2., 2., 2., 2., 2., 2., 2., 2., 2., 2., 2., 2., 2., 2., 2.,\n",
      "        2., 2., 2., 2., 2., 2., 2., 2., 2., 2.]),\n",
      "indices=tensor([103171,  50990,  95376, 101422, 120238,  57895,  59939,  60888,   6777,\n",
      "         35674,  80526, 127359, 100531,  94423,  95717,  10281,  54132,  48184,\n",
      "         14649,  36926,  37128,  35149,  62134,  84576,  11351, 122107,  26819,\n",
      "         26555,  92365,  15312,  61456, 101155,  24738,  12674,  59371,  59659,\n",
      "         59295,  59841,  59090,  51700,  56617,  49600,  47133,  41446,  43705,\n",
      "         41195,  46156,  39916,  39074,  36135,  60164,  46594,  38736,  34215,\n",
      "         31384,  31608,   4901,   4367,  32664,  30956,  30634,  28209,   3913,\n",
      "         34087]))\n"
     ]
    }
   ],
   "source": [
    "ctx = {}\n",
    "print(common_acts)\n",
    "ctx[\"index\"] = common_acts.indices[0]\n",
    "ctx[\"value\"] = 10.0\n",
    "ctx[\"steer\"] = True"
   ]
  },
  {
   "cell_type": "markdown",
   "id": "b1da820b-f343-41cc-b7c5-0c1cfda962ba",
   "metadata": {},
   "source": [
    "Hooks allow inspection or modification of the inputs/outputs of torch modules without modification to the module.\n",
    "Since we pass hidden_state to our SAE in the earlier cell, this hooks replaces hidden_state, which is the incoming value to the transformer layer, by passing it through the encoder first.\n",
    "ctx allows us to tell the hook how to modify SAE features, which we manipulate later to steer the model."
   ]
  },
  {
   "cell_type": "code",
   "execution_count": 9,
   "id": "76bc8339-1258-4ad4-bf51-38146f18b89a",
   "metadata": {},
   "outputs": [
    {
     "name": "stdout",
     "output_type": "stream",
     "text": [
      "No handle set yet. Assuming this is the first run.\n"
     ]
    }
   ],
   "source": [
    "try:\n",
    "    steering_hook_handle.remove()\n",
    "except NameError:\n",
    "    print(\"No handle set yet. Assuming this is the first run.\")\n",
    "\n",
    "cached_in = None\n",
    "\n",
    "# Hooks allow inspection or modification of the inputs/outputs of torch modules\n",
    "# without modification to the module.\n",
    "# Since we pass hidden_state to our SAE in the earlier cell, this hooks replaces\n",
    "# hidden_state, which is the incoming value to the transformer layer, by \n",
    "# passing it through the encoder first.\n",
    "# ctx allows us to tell the hook how to modify SAE features, which we manipulate\n",
    "# later to steer the model.\n",
    "def steering_hook(mod, ins):\n",
    "    global cached_in\n",
    "    global sae\n",
    "    global ctx\n",
    "\n",
    "    latent = sae.encode(ins[0].squeeze(0))\n",
    "\n",
    "    if ctx[\"steer\"]:\n",
    "        act_index = (latent.top_indices[0, :] == ctx[\"index\"]).nonzero(as_tuple=True)\n",
    "\n",
    "        # If the target feature is already in the top acts, force it to the desired value.\n",
    "        if len(torch.tensor([])) != 0:\n",
    "            latent.top_acts[0, act_index] = ctx[\"value\"]\n",
    "            out = sae.decode(latent.top_acts, latent.top_indices)\n",
    "            cached_in = out\n",
    "            out = (out.unsqueeze(0),)\n",
    "            ins[0][...] = out[0][...]\n",
    "            return None\n",
    "        # If not, then extend the top acts arrays to add it.\n",
    "        else:\n",
    "            ps, fv = latent.top_indices.shape\n",
    "            new_top_acts = torch.zeros(ps, fv + 1, dtype=latent.top_acts.dtype)\n",
    "            new_top_indices = torch.zeros(ps, fv + 1, dtype=latent.top_indices.dtype)\n",
    "\n",
    "            new_top_acts[:, 1:] = latent.top_acts\n",
    "            new_top_indices[:, 1:] = latent.top_indices\n",
    "\n",
    "            new_top_acts[:, 0] = ctx[\"value\"]\n",
    "            new_top_indices[:, 0] = ctx[\"index\"]\n",
    "\n",
    "            out = sae.decode(new_top_acts, new_top_indices)\n",
    "            cached_in = out\n",
    "            out = (out.unsqueeze(0),)\n",
    "\n",
    "            # Confusingly it seems we need to mutate the input. Idk what the return value is for.\n",
    "            ins[0][...] = out[0][...]\n",
    "            return None\n",
    "    \n",
    "    # Fallback, pass through the input.\n",
    "    return ins\n",
    "\n",
    "steering_hook_handle = model.model.layers[24].register_forward_pre_hook(steering_hook)"
   ]
  },
  {
   "cell_type": "markdown",
   "id": "5927dc79-5b6e-4bae-aa8b-8c31fc81d6b9",
   "metadata": {},
   "source": [
    "# First get the unmodified input from the model."
   ]
  },
  {
   "cell_type": "code",
   "execution_count": 10,
   "id": "0ab4e6ae-cf23-4285-9fe1-79cb47721693",
   "metadata": {
    "scrolled": true
   },
   "outputs": [
    {
     "name": "stderr",
     "output_type": "stream",
     "text": [
      "Setting `pad_token_id` to `eos_token_id`:128001 for open-end generation.\n"
     ]
    },
    {
     "name": "stdout",
     "output_type": "stream",
     "text": [
      "{'index': tensor(103171), 'value': 10.0, 'steer': False}\n",
      "['I’m pretty sure that the answer to every question is “yes”. That said, we do have a list of frequently asked questions (and the answers)']\n"
     ]
    }
   ],
   "source": [
    "ctx[\"steer\"] = False\n",
    "\n",
    "print(ctx)\n",
    "\n",
    "transformers.set_seed(17)\n",
    "with torch.inference_mode():\n",
    "    inputs = tokenizer(\"I\", return_tensors=\"pt\")\n",
    "    # outputs = model(**inputs, output_hidden_states=True)\n",
    "    gen = model.generate(**inputs, do_sample=True, max_length=32, temperature=1.0)\n",
    "\n",
    "    print(tokenizer.batch_decode(gen, skip_special_tokens=True))"
   ]
  },
  {
   "cell_type": "markdown",
   "id": "6b742b80-4dfa-4148-b59d-154c3adaf035",
   "metadata": {},
   "source": [
    "# Try forcing different common features high"
   ]
  },
  {
   "cell_type": "code",
   "execution_count": 11,
   "id": "ebced440-e091-4af9-93f7-a407e0347ebe",
   "metadata": {},
   "outputs": [
    {
     "name": "stderr",
     "output_type": "stream",
     "text": [
      "Setting `pad_token_id` to `eos_token_id`:128001 for open-end generation.\n"
     ]
    },
    {
     "name": "stdout",
     "output_type": "stream",
     "text": [
      "{'index': tensor(103171), 'value': 5.0, 'steer': True}\n"
     ]
    },
    {
     "name": "stderr",
     "output_type": "stream",
     "text": [
      "Setting `pad_token_id` to `eos_token_id`:128001 for open-end generation.\n"
     ]
    },
    {
     "name": "stdout",
     "output_type": "stream",
     "text": [
      "Feature 0 ['I love to travel, and I love to experience the world from the perspective of the people I’m with. In my life I have been fortunate to have']\n",
      "{'index': tensor(50990), 'value': 5.0, 'steer': True}\n"
     ]
    },
    {
     "name": "stderr",
     "output_type": "stream",
     "text": [
      "Setting `pad_token_id` to `eos_token_id`:128001 for open-end generation.\n"
     ]
    },
    {
     "name": "stdout",
     "output_type": "stream",
     "text": [
      "Feature 1 ['I love to travel, and I am also a vegetarian and a food lover. I love to discover the world through its food and to share the best of']\n",
      "{'index': tensor(95376), 'value': 5.0, 'steer': True}\n"
     ]
    },
    {
     "name": "stderr",
     "output_type": "stream",
     "text": [
      "Setting `pad_token_id` to `eos_token_id`:128001 for open-end generation.\n"
     ]
    },
    {
     "name": "stdout",
     "output_type": "stream",
     "text": [
      "Feature 2 ['I n s c. t h. t s. c. t. t...............']\n",
      "{'index': tensor(101422), 'value': 5.0, 'steer': True}\n"
     ]
    },
    {
     "name": "stderr",
     "output_type": "stream",
     "text": [
      "Setting `pad_token_id` to `eos_token_id`:128001 for open-end generation.\n"
     ]
    },
    {
     "name": "stdout",
     "output_type": "stream",
     "text": [
      "Feature 3 ['I love the “p” in “s” sound that many Americans use in the word “s” in the word “s” in the word “']\n",
      "{'index': tensor(120238), 'value': 5.0, 'steer': True}\n"
     ]
    },
    {
     "name": "stderr",
     "output_type": "stream",
     "text": [
      "Setting `pad_token_id` to `eos_token_id`:128001 for open-end generation.\n"
     ]
    },
    {
     "name": "stdout",
     "output_type": "stream",
     "text": [
      "Feature 4 ['I n s p i n c h i n s c h i n t h e r e p s c h i n n w h o t']\n",
      "{'index': tensor(57895), 'value': 5.0, 'steer': True}\n"
     ]
    },
    {
     "name": "stderr",
     "output_type": "stream",
     "text": [
      "Setting `pad_token_id` to `eos_token_id`:128001 for open-end generation.\n"
     ]
    },
    {
     "name": "stdout",
     "output_type": "stream",
     "text": [
      "Feature 5 [\"I’m Not Good Enough To Be A\\nIt's a phrase that you've heard Before you and I we’re born there was a means of it’s\"]\n",
      "{'index': tensor(59939), 'value': 5.0, 'steer': True}\n"
     ]
    },
    {
     "name": "stderr",
     "output_type": "stream",
     "text": [
      "Setting `pad_token_id` to `eos_token_id`:128001 for open-end generation.\n"
     ]
    },
    {
     "name": "stdout",
     "output_type": "stream",
     "text": [
      "Feature 6 ['I']\n",
      "{'index': tensor(60888), 'value': 5.0, 'steer': True}\n"
     ]
    },
    {
     "name": "stderr",
     "output_type": "stream",
     "text": [
      "Setting `pad_token_id` to `eos_token_id`:128001 for open-end generation.\n"
     ]
    },
    {
     "name": "stdout",
     "output_type": "stream",
     "text": [
      "Feature 7 ['I’m not a big football fan. I was never a football player. In fact, I never did the sport at all growing up, so I’m']\n",
      "{'index': tensor(6777), 'value': 5.0, 'steer': True}\n"
     ]
    },
    {
     "name": "stderr",
     "output_type": "stream",
     "text": [
      "Setting `pad_token_id` to `eos_token_id`:128001 for open-end generation.\n"
     ]
    },
    {
     "name": "stdout",
     "output_type": "stream",
     "text": [
      "Feature 8 ['I love the “Do” part of “do” \\u200b \\u200b \\u200b \\u200b \\u200b \\u200b \\u200b \\u200b \\u200b \\u200b \\u200b \\u200b \\u200b\\u200b\\u200b \\u200b \\u200b \\u200b \\u200b\\u200b']\n",
      "{'index': tensor(35674), 'value': 5.0, 'steer': True}\n",
      "Feature 9 ['I love to travel, and I can’t think of a better way to experience a new city than to learn about it’s food and culture. If you']\n"
     ]
    }
   ],
   "source": [
    "for x in range(0, 10):\n",
    "    ctx[\"index\"] = common_acts.indices[x]\n",
    "    ctx[\"steer\"] = True\n",
    "    ctx[\"value\"] = 5.0\n",
    "    \n",
    "    print(ctx)\n",
    "    \n",
    "    transformers.set_seed(17)\n",
    "    with torch.inference_mode():\n",
    "        inputs = tokenizer(\"I\", return_tensors=\"pt\")\n",
    "        # outputs = model(**inputs, output_hidden_states=True)\n",
    "        gen = model.generate(**inputs, do_sample=True, max_length=32, temperature=1.0)\n",
    "    \n",
    "        print(f\"Feature {x}\", tokenizer.batch_decode(gen, skip_special_tokens=True))"
   ]
  },
  {
   "cell_type": "markdown",
   "id": "ee6be82b-8ea7-4ce7-8717-c69d76729311",
   "metadata": {},
   "source": [
    "Ok, feature 7 says something about football which is promising. Although my samples were all about baseball, anything sports related is a good hit. Let's make some generations from open-ended prompts to see if they start talking about sports. Remember that this is not an instruct model, so the samples should not take the form of questions/requests/chats."
   ]
  },
  {
   "cell_type": "code",
   "execution_count": 12,
   "id": "f5ff8956-cd88-4bbe-a819-b3f4fb107b15",
   "metadata": {},
   "outputs": [
    {
     "name": "stderr",
     "output_type": "stream",
     "text": [
      "Setting `pad_token_id` to `eos_token_id`:128001 for open-end generation.\n",
      "Setting `pad_token_id` to `eos_token_id`:128001 for open-end generation.\n"
     ]
    },
    {
     "name": "stdout",
     "output_type": "stream",
     "text": [
      "['There are plenty of things to do when visiting a new city, such as visiting the football or soccer games, but there is also a lot of fun to']\n"
     ]
    },
    {
     "name": "stderr",
     "output_type": "stream",
     "text": [
      "Setting `pad_token_id` to `eos_token_id`:128001 for open-end generation.\n"
     ]
    },
    {
     "name": "stdout",
     "output_type": "stream",
     "text": [
      "[\"Staying active is an important part of a healthly lifestyle. But when you're in sports or are an athlete, it's important to be sure you\"]\n"
     ]
    },
    {
     "name": "stderr",
     "output_type": "stream",
     "text": [
      "Setting `pad_token_id` to `eos_token_id`:128001 for open-end generation.\n"
     ]
    },
    {
     "name": "stdout",
     "output_type": "stream",
     "text": [
      "['My favorite thing to do with friends on the weekend is to get together for a football or soccer game. It’s a great time to play some football or']\n",
      "['The goal of this project is to develop and test a new, football style, soccer goal. This goal will be made of a basketball goal and will be']\n"
     ]
    }
   ],
   "source": [
    "prompts = [\n",
    "    \"There are plenty of things to do when visiting a new city, such as\",\n",
    "    \"Staying active is an important part of a healthly lifestyle.\",\n",
    "    \"My favorite thing to do with friends on the weekend is\",\n",
    "    \"The\"\n",
    "]\n",
    "\n",
    "for p in prompts:\n",
    "    ctx[\"index\"] = common_acts.indices[7]\n",
    "    ctx[\"steer\"] = True\n",
    "    ctx[\"value\"] = 6.0  # 4 not enough, 10 too much.\n",
    "\n",
    "    transformers.set_seed(17)\n",
    "    with torch.inference_mode():\n",
    "        inputs = tokenizer(p, return_tensors=\"pt\")\n",
    "        # outputs = model(**inputs, output_hidden_states=True)\n",
    "        gen = model.generate(**inputs, do_sample=True, max_length=32, temperature=0.5, top_p=0.95)\n",
    "    \n",
    "        print(tokenizer.batch_decode(gen, skip_special_tokens=True))"
   ]
  },
  {
   "cell_type": "code",
   "execution_count": null,
   "id": "572dc7b0-960f-4dd7-bc2f-b3d8caa9a5c1",
   "metadata": {},
   "outputs": [],
   "source": []
  }
 ],
 "metadata": {
  "kernelspec": {
   "display_name": "Python 3 (ipykernel)",
   "language": "python",
   "name": "python3"
  },
  "language_info": {
   "codemirror_mode": {
    "name": "ipython",
    "version": 3
   },
   "file_extension": ".py",
   "mimetype": "text/x-python",
   "name": "python",
   "nbconvert_exporter": "python",
   "pygments_lexer": "ipython3",
   "version": "3.11.12"
  }
 },
 "nbformat": 4,
 "nbformat_minor": 5
}
